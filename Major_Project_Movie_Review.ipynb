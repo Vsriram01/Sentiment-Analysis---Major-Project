{
  "nbformat": 4,
  "nbformat_minor": 0,
  "metadata": {
    "colab": {
      "name": "Major Project: Movie Review.ipynb",
      "provenance": [],
      "authorship_tag": "ABX9TyNdId+I2z5j8USs6Rf0lZc/",
      "include_colab_link": true
    },
    "kernelspec": {
      "name": "python3",
      "display_name": "Python 3"
    }
  },
  "cells": [
    {
      "cell_type": "markdown",
      "metadata": {
        "id": "view-in-github",
        "colab_type": "text"
      },
      "source": [
        "<a href=\"https://colab.research.google.com/github/Vsriram01/Sentiment-Analysis---Major-Project/blob/main/Major_Project_Movie_Review.ipynb\" target=\"_parent\"><img src=\"https://colab.research.google.com/assets/colab-badge.svg\" alt=\"Open In Colab\"/></a>"
      ]
    },
    {
      "cell_type": "code",
      "metadata": {
        "id": "uhnosOLNG3kI"
      },
      "source": [
        "import pandas as pd\r\n",
        "import numpy as np\r\n",
        "import re"
      ],
      "execution_count": null,
      "outputs": []
    },
    {
      "cell_type": "code",
      "metadata": {
        "colab": {
          "base_uri": "https://localhost:8080/"
        },
        "id": "P7Bz4zYKHDT2",
        "outputId": "e00b0645-44db-419b-9f14-21f3460557c2"
      },
      "source": [
        "df = pd.read_table('/content/moviereviews.tsv')\r\n",
        "print(\"Shape:\",df.shape)  #Return the shape of data \r\n",
        "print(\"Dimensions:\",df.ndim)   #Return the n dimensions of data\r\n",
        "print(\"Size:\",df.size)   #Return the size of data \r\n",
        "print(\"Count of empty fields:\\n\",df.isna().sum())  #Returns the sum fo all na values\r\n",
        "print(\"Summary of dataset:\")\r\n",
        "print(df.info())  #Give concise summary of a DataFrame\r\n",
        "print(\"Top 5 reviews:\\n\",df.head())  #top 5 rows of the dataframe\r\n",
        "print(\"Last 5 reviews:\\n\",df.tail()) #bottom 5 rows of the dataframe"
      ],
      "execution_count": null,
      "outputs": [
        {
          "output_type": "stream",
          "text": [
            "Shape: (25000, 3)\n",
            "Dimensions: 2\n",
            "Size: 75000\n",
            "Count of empty fields:\n",
            " id           0\n",
            "sentiment    0\n",
            "review       0\n",
            "dtype: int64\n",
            "Summary of dataset:\n",
            "<class 'pandas.core.frame.DataFrame'>\n",
            "RangeIndex: 25000 entries, 0 to 24999\n",
            "Data columns (total 3 columns):\n",
            " #   Column     Non-Null Count  Dtype \n",
            "---  ------     --------------  ----- \n",
            " 0   id         25000 non-null  object\n",
            " 1   sentiment  25000 non-null  int64 \n",
            " 2   review     25000 non-null  object\n",
            "dtypes: int64(1), object(2)\n",
            "memory usage: 586.1+ KB\n",
            "None\n",
            "Top 5 reviews:\n",
            "        id  sentiment                                             review\n",
            "0  5814_8          1  With all this stuff going down at the moment w...\n",
            "1  2381_9          1  \\The Classic War of the Worlds\\\" by Timothy Hi...\n",
            "2  7759_3          0  The film starts with a manager (Nicholas Bell)...\n",
            "3  3630_4          0  It must be assumed that those who praised this...\n",
            "4  9495_8          1  Superbly trashy and wondrously unpretentious 8...\n",
            "Last 5 reviews:\n",
            "             id  sentiment                                             review\n",
            "24995   3453_3          0  It seems like more consideration has gone into...\n",
            "24996   5064_1          0  I don't believe they made this film. Completel...\n",
            "24997  10905_3          0  Guy is a loser. Can't get girls, needs to buil...\n",
            "24998  10194_3          0  This 30 minute documentary Buñuel made in the ...\n",
            "24999   8478_8          1  I saw this movie as a child and it broke my he...\n"
          ],
          "name": "stdout"
        }
      ]
    },
    {
      "cell_type": "code",
      "metadata": {
        "id": "jMXfqQH1HRfm",
        "colab": {
          "base_uri": "https://localhost:8080/"
        },
        "outputId": "882bcc90-080a-4fb1-da22-90e8d93f51ae"
      },
      "source": [
        "df['sentiment'].value_counts() #To check whether the data is balanced or unbalanced. In this case, it is balanced"
      ],
      "execution_count": null,
      "outputs": [
        {
          "output_type": "execute_result",
          "data": {
            "text/plain": [
              "1    12500\n",
              "0    12500\n",
              "Name: sentiment, dtype: int64"
            ]
          },
          "metadata": {
            "tags": []
          },
          "execution_count": 43
        }
      ]
    },
    {
      "cell_type": "code",
      "metadata": {
        "colab": {
          "base_uri": "https://localhost:8080/"
        },
        "id": "QjSnSpYePYgZ",
        "outputId": "7a8a949b-3ce5-470d-fd9b-850dd985f4af"
      },
      "source": [
        "import nltk\r\n",
        "nltk.download('stopwords')"
      ],
      "execution_count": null,
      "outputs": [
        {
          "output_type": "stream",
          "text": [
            "[nltk_data] Downloading package stopwords to /root/nltk_data...\n",
            "[nltk_data]   Package stopwords is already up-to-date!\n"
          ],
          "name": "stdout"
        },
        {
          "output_type": "execute_result",
          "data": {
            "text/plain": [
              "True"
            ]
          },
          "metadata": {
            "tags": []
          },
          "execution_count": 44
        }
      ]
    },
    {
      "cell_type": "code",
      "metadata": {
        "id": "SkbrupiRPrFV"
      },
      "source": [
        "from nltk.corpus import stopwords\r\n",
        "corpus = []\r\n",
        "for i in range(0,25000):\r\n",
        "  review = re.sub('[^\\w\\s]',\" \",df[\"review\"][i]) # ^ denotes \"not include\", \\w means words and \\s means whitespaces. So in this case, I'm excluding words and white spaces in tokenization\r\n",
        "  review = review.lower()\r\n",
        "  review = review.split()\r\n",
        "  stop_words = stopwords.words('english') #Stopwords are repetitive words which have no effect on sentiment whatsoever. Hence removing them makes the data efficient\r\n",
        "  review = [word for word in review if not word in set(stop_words)]\r\n",
        "  review = \" \".join(review)\r\n",
        "  corpus.append(review)"
      ],
      "execution_count": null,
      "outputs": []
    },
    {
      "cell_type": "code",
      "metadata": {
        "id": "XaAH__eAYyAV"
      },
      "source": [
        "from sklearn.feature_extraction.text import CountVectorizer\r\n",
        "cv = CountVectorizer(max_features=1500) # Max features (1500) columns are read\r\n",
        "x = cv.fit_transform(corpus).toarray()\r\n",
        "y = df[\"sentiment\"]"
      ],
      "execution_count": null,
      "outputs": []
    },
    {
      "cell_type": "code",
      "metadata": {
        "id": "wzSWl393fuHG"
      },
      "source": [
        "from sklearn.model_selection import train_test_split\r\n",
        "x_train,x_test,y_train,y_test = train_test_split(x,y,test_size=0.2,random_state=0)"
      ],
      "execution_count": null,
      "outputs": []
    },
    {
      "cell_type": "code",
      "metadata": {
        "id": "FnmM69YIb9Zz"
      },
      "source": [
        "from sklearn.naive_bayes import GaussianNB,MultinomialNB\r\n",
        "GNB = GaussianNB()\r\n",
        "MNB = MultinomialNB()\r\n",
        "model1 = GNB.fit(x_train, y_train)\r\n",
        "model2 = MNB.fit(x_train, y_train)"
      ],
      "execution_count": null,
      "outputs": []
    },
    {
      "cell_type": "code",
      "metadata": {
        "colab": {
          "base_uri": "https://localhost:8080/"
        },
        "id": "5yZUNQ_GfJb4",
        "outputId": "570521a8-4ca2-4cce-dce8-d6847587ffe9"
      },
      "source": [
        "print(\"Gaussian accuracy:\",GNB.score(x_test,y_test))\r\n",
        "print(\"Multinomial accuracy:\",MNB.score(x_test,y_test))"
      ],
      "execution_count": null,
      "outputs": [
        {
          "output_type": "stream",
          "text": [
            "Gaussian accuracy: 0.7954\n",
            "Multinomial accuracy: 0.8484\n"
          ],
          "name": "stdout"
        }
      ]
    },
    {
      "cell_type": "code",
      "metadata": {
        "colab": {
          "base_uri": "https://localhost:8080/"
        },
        "id": "n7tIQAH8gscz",
        "outputId": "d4cce560-78db-4043-8caf-adf984d8d79f"
      },
      "source": [
        "y_pred=model2.predict(x_test)\r\n",
        "print(np.concatenate((y_pred.reshape(len(y_pred),1), np.array(y_test).reshape(len(y_test),1)),1))"
      ],
      "execution_count": null,
      "outputs": [
        {
          "output_type": "stream",
          "text": [
            "[[1 0]\n",
            " [0 1]\n",
            " [1 0]\n",
            " ...\n",
            " [1 1]\n",
            " [0 0]\n",
            " [1 1]]\n"
          ],
          "name": "stdout"
        }
      ]
    },
    {
      "cell_type": "code",
      "metadata": {
        "colab": {
          "base_uri": "https://localhost:8080/"
        },
        "id": "CEAe3T-ogvEq",
        "outputId": "1ef4876e-3192-47a0-955a-b1feb8e80895"
      },
      "source": [
        "from sklearn.metrics import confusion_matrix,accuracy_score,classification_report\r\n",
        "CM = confusion_matrix(y_test,y_pred)\r\n",
        "score = accuracy_score(y_test,y_pred)\r\n",
        "cl_report = classification_report(y_test,y_pred)\r\n",
        "print(\"Confusion matrix:\\n\",CM)\r\n",
        "print(\"Classification Report:\\n\",cl_report)\r\n",
        "print(\"Accuracy of MNB: \",score*100)"
      ],
      "execution_count": null,
      "outputs": [
        {
          "output_type": "stream",
          "text": [
            "Confusion matrix:\n",
            " [[2146  402]\n",
            " [ 356 2096]]\n",
            "Classification Report:\n",
            "               precision    recall  f1-score   support\n",
            "\n",
            "           0       0.86      0.84      0.85      2548\n",
            "           1       0.84      0.85      0.85      2452\n",
            "\n",
            "    accuracy                           0.85      5000\n",
            "   macro avg       0.85      0.85      0.85      5000\n",
            "weighted avg       0.85      0.85      0.85      5000\n",
            "\n",
            "Accuracy of MNB:  84.84\n"
          ],
          "name": "stdout"
        }
      ]
    },
    {
      "cell_type": "code",
      "metadata": {
        "colab": {
          "base_uri": "https://localhost:8080/"
        },
        "id": "4_HH3IaKmrV1",
        "outputId": "2fabc696-fd9a-4880-bbb4-2e2cf1bab01c"
      },
      "source": [
        "#Save output as pickle file\r\n",
        "import pickle\r\n",
        "pickle.dump(cv, open('countvectorizer.pkl', 'wb')) #Save trained model and CountVectorizer to pickle\r\n",
        "pickle.dump(model2, open(\"MNBmodel.pkl\", \"wb\"))\r\n",
        "loaded_model = pickle.load(open(\"MNBmodel.pkl\", \"rb\")) #Open trained model and re-evaluate\r\n",
        "y_pred_new = loaded_model.predict(x_test)\r\n",
        "print(\"Accuracy score: \",loaded_model.score(x_test,y_test))"
      ],
      "execution_count": null,
      "outputs": [
        {
          "output_type": "stream",
          "text": [
            "Accuracy score:  0.8484\n"
          ],
          "name": "stdout"
        }
      ]
    },
    {
      "cell_type": "code",
      "metadata": {
        "colab": {
          "base_uri": "https://localhost:8080/"
        },
        "id": "QV6vxkRVniyM",
        "outputId": "5e40ea87-ccde-49b7-ffc7-48d48bae78f9"
      },
      "source": [
        "# Predict output for new review\r\n",
        "from nltk.corpus import stopwords\r\n",
        "def new_review(new_review):\r\n",
        "  cv = pickle.load(open(\"countvectorizer.pkl\",\"rb\"))\r\n",
        "  loaded_model = pickle.load(open(\"MNBmodel.pkl\", \"rb\"))\r\n",
        "  new_review = new_review\r\n",
        "  new_review = re.sub('[^\\w\\s]', ' ', new_review)\r\n",
        "  new_review = new_review.lower()\r\n",
        "  new_review = new_review.split()\r\n",
        "  stop_words = stopwords.words('english')\r\n",
        "  new_review = [word for word in new_review if not word in set(stop_words)]\r\n",
        "  new_review = ' '.join(new_review)\r\n",
        "  new_corpus = [new_review]\r\n",
        "  new_X_test = cv.transform(new_corpus).toarray()\r\n",
        "  new_y_pred = loaded_model.predict(new_X_test)\r\n",
        "  return new_y_pred\r\n",
        "input_review = input('Enter new review: ')\r\n",
        "new_review = new_review(input_review)\r\n",
        "if new_review[0]==1:\r\n",
        "   print(\"Positive\")\r\n",
        "else :\r\n",
        "   print(\"Negative\")\r\n"
      ],
      "execution_count": null,
      "outputs": [
        {
          "output_type": "stream",
          "text": [
            "Enter new review: Good\n",
            "Positive\n"
          ],
          "name": "stdout"
        }
      ]
    },
    {
      "cell_type": "code",
      "metadata": {
        "colab": {
          "base_uri": "https://localhost:8080/"
        },
        "id": "NEwVREvOvxEP",
        "outputId": "bcea5292-f6bf-41c5-82c1-8f88089b01f4"
      },
      "source": [
        "#Deployment\r\n",
        "!pip install streamlit\r\n",
        "!pip install pyngrok==4.1.1\r\n",
        "from pyngrok import ngrok"
      ],
      "execution_count": null,
      "outputs": [
        {
          "output_type": "stream",
          "text": [
            "Requirement already satisfied: streamlit in /usr/local/lib/python3.7/dist-packages (0.78.0)\n",
            "Requirement already satisfied: click>=7.0 in /usr/local/lib/python3.7/dist-packages (from streamlit) (7.1.2)\n",
            "Requirement already satisfied: requests in /usr/local/lib/python3.7/dist-packages (from streamlit) (2.23.0)\n",
            "Requirement already satisfied: pyarrow; python_version < \"3.9\" in /usr/local/lib/python3.7/dist-packages (from streamlit) (3.0.0)\n",
            "Requirement already satisfied: altair>=3.2.0 in /usr/local/lib/python3.7/dist-packages (from streamlit) (4.1.0)\n",
            "Requirement already satisfied: blinker in /usr/local/lib/python3.7/dist-packages (from streamlit) (1.4)\n",
            "Requirement already satisfied: pydeck>=0.1.dev5 in /usr/local/lib/python3.7/dist-packages (from streamlit) (0.6.1)\n",
            "Requirement already satisfied: toml in /usr/local/lib/python3.7/dist-packages (from streamlit) (0.10.2)\n",
            "Requirement already satisfied: pandas>=0.21.0 in /usr/local/lib/python3.7/dist-packages (from streamlit) (1.1.5)\n",
            "Requirement already satisfied: protobuf!=3.11,>=3.6.0 in /usr/local/lib/python3.7/dist-packages (from streamlit) (3.12.4)\n",
            "Requirement already satisfied: watchdog; platform_system != \"Darwin\" in /usr/local/lib/python3.7/dist-packages (from streamlit) (2.0.2)\n",
            "Requirement already satisfied: pillow>=6.2.0 in /usr/local/lib/python3.7/dist-packages (from streamlit) (7.0.0)\n",
            "Requirement already satisfied: packaging in /usr/local/lib/python3.7/dist-packages (from streamlit) (20.9)\n",
            "Requirement already satisfied: numpy in /usr/local/lib/python3.7/dist-packages (from streamlit) (1.19.5)\n",
            "Requirement already satisfied: base58 in /usr/local/lib/python3.7/dist-packages (from streamlit) (2.1.0)\n",
            "Requirement already satisfied: python-dateutil in /usr/local/lib/python3.7/dist-packages (from streamlit) (2.8.1)\n",
            "Requirement already satisfied: cachetools>=4.0 in /usr/local/lib/python3.7/dist-packages (from streamlit) (4.2.1)\n",
            "Requirement already satisfied: validators in /usr/local/lib/python3.7/dist-packages (from streamlit) (0.18.2)\n",
            "Requirement already satisfied: gitpython in /usr/local/lib/python3.7/dist-packages (from streamlit) (3.1.14)\n",
            "Requirement already satisfied: astor in /usr/local/lib/python3.7/dist-packages (from streamlit) (0.8.1)\n",
            "Requirement already satisfied: tzlocal in /usr/local/lib/python3.7/dist-packages (from streamlit) (1.5.1)\n",
            "Requirement already satisfied: tornado>=5.0 in /usr/local/lib/python3.7/dist-packages (from streamlit) (5.1.1)\n",
            "Requirement already satisfied: idna<3,>=2.5 in /usr/local/lib/python3.7/dist-packages (from requests->streamlit) (2.10)\n",
            "Requirement already satisfied: urllib3!=1.25.0,!=1.25.1,<1.26,>=1.21.1 in /usr/local/lib/python3.7/dist-packages (from requests->streamlit) (1.24.3)\n",
            "Requirement already satisfied: certifi>=2017.4.17 in /usr/local/lib/python3.7/dist-packages (from requests->streamlit) (2020.12.5)\n",
            "Requirement already satisfied: chardet<4,>=3.0.2 in /usr/local/lib/python3.7/dist-packages (from requests->streamlit) (3.0.4)\n",
            "Requirement already satisfied: entrypoints in /usr/local/lib/python3.7/dist-packages (from altair>=3.2.0->streamlit) (0.3)\n",
            "Requirement already satisfied: jinja2 in /usr/local/lib/python3.7/dist-packages (from altair>=3.2.0->streamlit) (2.11.3)\n",
            "Requirement already satisfied: toolz in /usr/local/lib/python3.7/dist-packages (from altair>=3.2.0->streamlit) (0.11.1)\n",
            "Requirement already satisfied: jsonschema in /usr/local/lib/python3.7/dist-packages (from altair>=3.2.0->streamlit) (2.6.0)\n",
            "Requirement already satisfied: traitlets>=4.3.2 in /usr/local/lib/python3.7/dist-packages (from pydeck>=0.1.dev5->streamlit) (5.0.5)\n",
            "Requirement already satisfied: ipywidgets>=7.0.0 in /usr/local/lib/python3.7/dist-packages (from pydeck>=0.1.dev5->streamlit) (7.6.3)\n",
            "Requirement already satisfied: ipykernel>=5.1.2; python_version >= \"3.4\" in /usr/local/lib/python3.7/dist-packages (from pydeck>=0.1.dev5->streamlit) (5.5.0)\n",
            "Requirement already satisfied: pytz>=2017.2 in /usr/local/lib/python3.7/dist-packages (from pandas>=0.21.0->streamlit) (2018.9)\n",
            "Requirement already satisfied: setuptools in /usr/local/lib/python3.7/dist-packages (from protobuf!=3.11,>=3.6.0->streamlit) (54.0.0)\n",
            "Requirement already satisfied: six>=1.9 in /usr/local/lib/python3.7/dist-packages (from protobuf!=3.11,>=3.6.0->streamlit) (1.15.0)\n",
            "Requirement already satisfied: pyparsing>=2.0.2 in /usr/local/lib/python3.7/dist-packages (from packaging->streamlit) (2.4.7)\n",
            "Requirement already satisfied: decorator>=3.4.0 in /usr/local/lib/python3.7/dist-packages (from validators->streamlit) (4.4.2)\n",
            "Requirement already satisfied: gitdb<5,>=4.0.1 in /usr/local/lib/python3.7/dist-packages (from gitpython->streamlit) (4.0.5)\n",
            "Requirement already satisfied: MarkupSafe>=0.23 in /usr/local/lib/python3.7/dist-packages (from jinja2->altair>=3.2.0->streamlit) (1.1.1)\n",
            "Requirement already satisfied: ipython-genutils in /usr/local/lib/python3.7/dist-packages (from traitlets>=4.3.2->pydeck>=0.1.dev5->streamlit) (0.2.0)\n",
            "Requirement already satisfied: nbformat>=4.2.0 in /usr/local/lib/python3.7/dist-packages (from ipywidgets>=7.0.0->pydeck>=0.1.dev5->streamlit) (5.1.2)\n",
            "Requirement already satisfied: ipython>=4.0.0; python_version >= \"3.3\" in /usr/local/lib/python3.7/dist-packages (from ipywidgets>=7.0.0->pydeck>=0.1.dev5->streamlit) (5.5.0)\n",
            "Requirement already satisfied: widgetsnbextension~=3.5.0 in /usr/local/lib/python3.7/dist-packages (from ipywidgets>=7.0.0->pydeck>=0.1.dev5->streamlit) (3.5.1)\n",
            "Requirement already satisfied: jupyterlab-widgets>=1.0.0; python_version >= \"3.6\" in /usr/local/lib/python3.7/dist-packages (from ipywidgets>=7.0.0->pydeck>=0.1.dev5->streamlit) (1.0.0)\n",
            "Requirement already satisfied: jupyter-client in /usr/local/lib/python3.7/dist-packages (from ipykernel>=5.1.2; python_version >= \"3.4\"->pydeck>=0.1.dev5->streamlit) (5.3.5)\n",
            "Requirement already satisfied: smmap<4,>=3.0.1 in /usr/local/lib/python3.7/dist-packages (from gitdb<5,>=4.0.1->gitpython->streamlit) (3.0.5)\n",
            "Requirement already satisfied: jupyter-core in /usr/local/lib/python3.7/dist-packages (from nbformat>=4.2.0->ipywidgets>=7.0.0->pydeck>=0.1.dev5->streamlit) (4.7.1)\n",
            "Requirement already satisfied: simplegeneric>0.8 in /usr/local/lib/python3.7/dist-packages (from ipython>=4.0.0; python_version >= \"3.3\"->ipywidgets>=7.0.0->pydeck>=0.1.dev5->streamlit) (0.8.1)\n",
            "Requirement already satisfied: pexpect; sys_platform != \"win32\" in /usr/local/lib/python3.7/dist-packages (from ipython>=4.0.0; python_version >= \"3.3\"->ipywidgets>=7.0.0->pydeck>=0.1.dev5->streamlit) (4.8.0)\n",
            "Requirement already satisfied: pygments in /usr/local/lib/python3.7/dist-packages (from ipython>=4.0.0; python_version >= \"3.3\"->ipywidgets>=7.0.0->pydeck>=0.1.dev5->streamlit) (2.6.1)\n",
            "Requirement already satisfied: pickleshare in /usr/local/lib/python3.7/dist-packages (from ipython>=4.0.0; python_version >= \"3.3\"->ipywidgets>=7.0.0->pydeck>=0.1.dev5->streamlit) (0.7.5)\n",
            "Requirement already satisfied: prompt-toolkit<2.0.0,>=1.0.4 in /usr/local/lib/python3.7/dist-packages (from ipython>=4.0.0; python_version >= \"3.3\"->ipywidgets>=7.0.0->pydeck>=0.1.dev5->streamlit) (1.0.18)\n",
            "Requirement already satisfied: notebook>=4.4.1 in /usr/local/lib/python3.7/dist-packages (from widgetsnbextension~=3.5.0->ipywidgets>=7.0.0->pydeck>=0.1.dev5->streamlit) (5.3.1)\n",
            "Requirement already satisfied: pyzmq>=13 in /usr/local/lib/python3.7/dist-packages (from jupyter-client->ipykernel>=5.1.2; python_version >= \"3.4\"->pydeck>=0.1.dev5->streamlit) (22.0.3)\n",
            "Requirement already satisfied: ptyprocess>=0.5 in /usr/local/lib/python3.7/dist-packages (from pexpect; sys_platform != \"win32\"->ipython>=4.0.0; python_version >= \"3.3\"->ipywidgets>=7.0.0->pydeck>=0.1.dev5->streamlit) (0.7.0)\n",
            "Requirement already satisfied: wcwidth in /usr/local/lib/python3.7/dist-packages (from prompt-toolkit<2.0.0,>=1.0.4->ipython>=4.0.0; python_version >= \"3.3\"->ipywidgets>=7.0.0->pydeck>=0.1.dev5->streamlit) (0.2.5)\n",
            "Requirement already satisfied: nbconvert in /usr/local/lib/python3.7/dist-packages (from notebook>=4.4.1->widgetsnbextension~=3.5.0->ipywidgets>=7.0.0->pydeck>=0.1.dev5->streamlit) (5.6.1)\n",
            "Requirement already satisfied: Send2Trash in /usr/local/lib/python3.7/dist-packages (from notebook>=4.4.1->widgetsnbextension~=3.5.0->ipywidgets>=7.0.0->pydeck>=0.1.dev5->streamlit) (1.5.0)\n",
            "Requirement already satisfied: terminado>=0.8.1 in /usr/local/lib/python3.7/dist-packages (from notebook>=4.4.1->widgetsnbextension~=3.5.0->ipywidgets>=7.0.0->pydeck>=0.1.dev5->streamlit) (0.9.2)\n",
            "Requirement already satisfied: defusedxml in /usr/local/lib/python3.7/dist-packages (from nbconvert->notebook>=4.4.1->widgetsnbextension~=3.5.0->ipywidgets>=7.0.0->pydeck>=0.1.dev5->streamlit) (0.7.0)\n",
            "Requirement already satisfied: pandocfilters>=1.4.1 in /usr/local/lib/python3.7/dist-packages (from nbconvert->notebook>=4.4.1->widgetsnbextension~=3.5.0->ipywidgets>=7.0.0->pydeck>=0.1.dev5->streamlit) (1.4.3)\n",
            "Requirement already satisfied: bleach in /usr/local/lib/python3.7/dist-packages (from nbconvert->notebook>=4.4.1->widgetsnbextension~=3.5.0->ipywidgets>=7.0.0->pydeck>=0.1.dev5->streamlit) (3.3.0)\n",
            "Requirement already satisfied: testpath in /usr/local/lib/python3.7/dist-packages (from nbconvert->notebook>=4.4.1->widgetsnbextension~=3.5.0->ipywidgets>=7.0.0->pydeck>=0.1.dev5->streamlit) (0.4.4)\n",
            "Requirement already satisfied: mistune<2,>=0.8.1 in /usr/local/lib/python3.7/dist-packages (from nbconvert->notebook>=4.4.1->widgetsnbextension~=3.5.0->ipywidgets>=7.0.0->pydeck>=0.1.dev5->streamlit) (0.8.4)\n",
            "Requirement already satisfied: webencodings in /usr/local/lib/python3.7/dist-packages (from bleach->nbconvert->notebook>=4.4.1->widgetsnbextension~=3.5.0->ipywidgets>=7.0.0->pydeck>=0.1.dev5->streamlit) (0.5.1)\n",
            "Requirement already satisfied: pyngrok==4.1.1 in /usr/local/lib/python3.7/dist-packages (4.1.1)\n",
            "Requirement already satisfied: future in /usr/local/lib/python3.7/dist-packages (from pyngrok==4.1.1) (0.16.0)\n",
            "Requirement already satisfied: PyYAML in /usr/local/lib/python3.7/dist-packages (from pyngrok==4.1.1) (3.13)\n"
          ],
          "name": "stdout"
        }
      ]
    },
    {
      "cell_type": "code",
      "metadata": {
        "colab": {
          "base_uri": "https://localhost:8080/"
        },
        "id": "u7Bp0WUjzgAO",
        "outputId": "c2161439-28f7-4282-ef8c-97af312b3467"
      },
      "source": [
        "%%writefile app.py\r\n",
        "# Import modules\r\n",
        "import pandas as pd \r\n",
        "import pickle\r\n",
        "import streamlit as st\r\n",
        "import re\r\n",
        "from nltk.corpus import stopwords\r\n",
        "\r\n",
        "# Display on webpage\r\n",
        "st.title('Movie review')\r\n",
        "st.markdown(\"This webpage uses the IMDB movie review dataset\")\r\n",
        "st.markdown(\"Using sentiment analysis, reviews will be classified under a specific category\")\r\n",
        "st.sidebar.title(\"Steps: \")\r\n",
        "st.sidebar.markdown(\"1. Type your opinion\")\r\n",
        "st.sidebar.markdown(\"2. Press enter\")\r\n",
        "st.sidebar.markdown(\"3. Wait for the respective emoji to appear\")\r\n",
        "\r\n",
        "# Load previously created models\r\n",
        "loaded_model = pickle.load(open(\"MNBmodel.pkl\",\"rb\"))\r\n",
        "cv = pickle.load(open(\"countvectorizer.pkl\",\"rb\"))\r\n",
        "\r\n",
        "# Predict output for new review\r\n",
        "def new_review(new_review):\r\n",
        "  new_review = new_review\r\n",
        "  new_review = re.sub('[^\\w\\s]', ' ', new_review)\r\n",
        "  new_review = new_review.lower()\r\n",
        "  new_review = new_review.split()\r\n",
        "  stop_words = stopwords.words('english')\r\n",
        "  new_review = [word for word in new_review if not word in set(stop_words)]\r\n",
        "  new_review = ' '.join(new_review)\r\n",
        "  new_corpus = [new_review]\r\n",
        "  new_x_test = cv.transform(new_corpus).toarray()\r\n",
        "  new_y_pred = loaded_model.predict(new_x_test)\r\n",
        "  return new_y_pred\r\n",
        "\r\n",
        "# Get user input\r\n",
        "input_review = st.text_input('Enter new review:')\r\n",
        "new_review = new_review(input_review)\r\n",
        "if new_review[0]==1:\r\n",
        "   st.title(\":smile:\")\r\n",
        "else :\r\n",
        "   st.title(\":worried:\")"
      ],
      "execution_count": null,
      "outputs": [
        {
          "output_type": "stream",
          "text": [
            "Overwriting app.py\n"
          ],
          "name": "stdout"
        }
      ]
    },
    {
      "cell_type": "code",
      "metadata": {
        "colab": {
          "base_uri": "https://localhost:8080/",
          "height": 52
        },
        "id": "tCxcfpPT2qDw",
        "outputId": "60728215-35a1-4f92-cf74-568244aa7ea0"
      },
      "source": [
        "!nohup streamlit run app.py &\r\n",
        "url = ngrok.connect(port='8501')\r\n",
        "url"
      ],
      "execution_count": null,
      "outputs": [
        {
          "output_type": "stream",
          "text": [
            "nohup: appending output to 'nohup.out'\n"
          ],
          "name": "stdout"
        },
        {
          "output_type": "execute_result",
          "data": {
            "application/vnd.google.colaboratory.intrinsic+json": {
              "type": "string"
            },
            "text/plain": [
              "'http://cbb050c6a68e.ngrok.io'"
            ]
          },
          "metadata": {
            "tags": []
          },
          "execution_count": 70
        }
      ]
    },
    {
      "cell_type": "code",
      "metadata": {
        "id": "fDl7D06J21fU"
      },
      "source": [
        ""
      ],
      "execution_count": null,
      "outputs": []
    }
  ]
}